{
 "cells": [
  {
   "cell_type": "markdown",
   "metadata": {},
   "source": [
    "## 配准\n",
    "每个病例文件夹下有ORIGIN,ROI两个字文件夹。其中：<br>\n",
    "\n",
    "    ORIGIN文件夹里边具有多个期的图像;<br>\n",
    "    ROI文件夹里边只有一个期的人工标注。<br>\n",
    "    \n",
    "以带有ROI标注的期相（不一定是20min）位fix图像，将其它期相的图像，配准到fix图像中；\n",
    "\n",
    "    step1、找出所有配准和待配准图像索引表（dataframe）\n",
    "    1-1：找出数据集中每一个病例的标注文件，并获取其标注的期相，作为fix；\n",
    "    1-2：找出其余所有需要标注的期相（记为moving图像）；\n",
    "    step2、分别将moving图像，往fix图像上配准，并保存\n",
    "    2-1：读图，获得fixed和moving图像的sitk对象；\n",
    "    2-2：判断sitk对象是否包含多个通道，若是，则挑选出我们真正想要的那个期相。\n",
    "    2-3：配准。\n",
    "\n",
    "注意：图像配准过程中，sitk会生成比较大的过程文件，程序运行后记得清理一下电脑的存储。"
   ]
  },
  {
   "cell_type": "code",
   "execution_count": null,
   "metadata": {
    "ExecuteTime": {
     "end_time": "2022-11-17T03:18:46.647736Z",
     "start_time": "2022-11-17T03:18:45.541924Z"
    }
   },
   "outputs": [],
   "source": [
    "import os\n",
    "from glob import glob\n",
    "from tqdm import tqdm\n",
    "import pandas as pd\n",
    "import SimpleITK as sitk\n",
    "from utils import util\n",
    "import re\n",
    "import shutil\n",
    "import numpy as np\n",
    "\n",
    "from parfor import parfor\n",
    "from multiprocessing import Pool\n",
    "from multiprocessing.dummy import Pool as ThreadPool"
   ]
  },
  {
   "cell_type": "code",
   "execution_count": null,
   "metadata": {
    "ExecuteTime": {
     "end_time": "2022-11-17T09:13:32.826710Z",
     "start_time": "2022-11-17T09:13:32.824411Z"
    }
   },
   "outputs": [],
   "source": [
    "params = {\n",
    "    'data_dir': '../Out_source/Need Reg/', # 原始数据集路径\n",
    "    'save_dir': '../Registrated_all4/Registrated_20221117/', # 配准后的数据集保存根目录\n",
    "    'temp_dir': '../temp', # 临时文件存放的地方\n",
    "    'phases': ['T1','T2','AP','PP','20 MIN'], # 所有期相\n",
    "}"
   ]
  },
  {
   "cell_type": "code",
   "execution_count": null,
   "metadata": {
    "ExecuteTime": {
     "end_time": "2022-11-17T09:13:38.195902Z",
     "start_time": "2022-11-17T09:13:38.177994Z"
    },
    "scrolled": false
   },
   "outputs": [],
   "source": [
    "data_dir = params['data_dir']# 原始数据集路径\n",
    "phases = params['phases']\n",
    "dir_reg = params['save_dir']# 配准后的数据集保存根目录\n",
    "\n",
    "''' \n",
    "注意！ 文件路径应为：一级目录 / 医院 / 病灶类型 / ID / ROI / phase.nrrd \n",
    "'''\n",
    "pat = os.path.join( data_dir, r'*/*/*/ROI/*.nrrd' )# glob寻找人工标注文件的模式\n",
    "label_filepath_list = glob(pat)# 所有的人工标注文件，列表\n",
    "print( '%d label nrrd file in total in %s.'%(len(label_filepath_list),data_dir) )\n",
    "\n",
    "filepaths_to_registrated = pd.DataFrame(\n",
    "    index=label_filepath_list,\n",
    "    columns=['fix']+phases)# 新建一个dataframe，用以保存配准信息\n",
    "filepaths_to_registrated.index.name = 'label'\n",
    "\n",
    "# 遍历每一个病例样本\n",
    "k=0\n",
    "for label_filepath in tqdm(filepaths_to_registrated.index):\n",
    "    _,_,_,_,cat,case,_,label_filename = label_filepath.split('/')\n",
    "    # 图像文件路径\n",
    "    image_dir = os.path.split(label_filepath)[0].replace('ROI','ORIGIN')\n",
    "    # 找出所有moving图像文件路径：\n",
    "    for phase in phases:\n",
    "        try:\n",
    "            filepaths_to_registrated.loc[label_filepath,phase] = \\\n",
    "                glob( os.path.join(image_dir,'*{}*.nrrd'.format(phase)) )[0]\n",
    "        except:\n",
    "            None\n",
    "\n",
    "\n",
    "    # 找出fix图像文件路径（人工标注的期相）:\n",
    "    fn = os.path.split(label_filename)[-1]\n",
    "    fix_phase = None\n",
    "    for phase in params['phases']:\n",
    "        if phase.upper() in fn.upper():\n",
    "            fix_phase = phase\n",
    "            k += 1\n",
    "    \n",
    "    if fix_phase:  \n",
    "        filepaths_to_registrated.loc[label_filepath,'fix'] = filepaths_to_registrated.loc[label_filepath,fix_phase]\n",
    "    else:\n",
    "        err_msg = 'Error: fixed image not found: {}'.format(label_filepath)\n",
    "        print(err_msg)\n",
    "# 删除掉哪些fix图像缺失的病例\n",
    "print( '{} samples lack of fix image'.format(filepaths_to_registrated['fix'].isna().sum()) )\n",
    "samples_noFixImage = filepaths_to_registrated[ filepaths_to_registrated['fix'].isna() ]\n",
    "print('Samples missing fixed image:')\n",
    "display(samples_noFixImage)\n",
    "filepaths_to_registrated.drop(index=samples_noFixImage.index, inplace=True)\n",
    "print('Fine samples:')\n",
    "display( filepaths_to_registrated )"
   ]
  },
  {
   "cell_type": "code",
   "execution_count": null,
   "metadata": {
    "ExecuteTime": {
     "end_time": "2022-11-17T09:13:58.764160Z",
     "start_time": "2022-11-17T09:13:47.291921Z"
    },
    "code_folding": [
     14,
     24,
     98
    ],
    "run_control": {
     "marked": false
    },
    "scrolled": false
   },
   "outputs": [],
   "source": [
    "# main\n",
    "for label_filepath in tqdm(filepaths_to_registrated.index[:]):\n",
    "    # 读取fix图像,(有些fix图像原文中包含多个期相，只需要保留我们想要的那个期相)：\n",
    "    # fixed图像的文件路径\n",
    "    fixed_filepath = filepaths_to_registrated.loc[label_filepath, 'fix']\n",
    "\n",
    "    if isinstance(fixed_filepath, float):\n",
    "        if np.isnan(fixed_filepath):\n",
    "            continue\n",
    "    elif isinstance(fixed_filepath, str):\n",
    "        if not os.path.isfile(fixed_filepath):\n",
    "            continue\n",
    "\n",
    "    fixedImage = sitk.ReadImage(fixed_filepath)\n",
    "    # 部分病例文件存在多通道情况，要根据文件命名来提取出想要的那个通道\n",
    "    if fixedImage.GetNumberOfComponentsPerPixel() > 1:\n",
    "        fixedImage = sitk.Cast(fixedImage, sitk.sitkVectorFloat32)\n",
    "        pat = '(\\d)-(\\d).*.nrrd'\n",
    "        fixed_basename = os.path.basename(fixed_filepath)\n",
    "        match_result = re.match(pat, fixed_basename)\n",
    "        n, m = match_result.groups()\n",
    "        n, m = int(n), int(m)  # n表示该期相所在的通道（从1开始编号），m表示该文件中的所有通道数\n",
    "        fixedImage_arr = sitk.GetArrayFromImage(fixedImage)\n",
    "        fixedImage_corrected = sitk.GetImageFromArray(fixedImage_arr[..., n-1])\n",
    "        fixedImage_corrected.CopyInformation(fixedImage)\n",
    "    else:\n",
    "        fixedImage_corrected = sitk.Cast(fixedImage, sitk.sitkFloat32)\n",
    "\n",
    "    # 新建文件夹，用于保存该病例配准的图像文件，并保存fix文件、ROI文件\n",
    "    _, _, _, hospital, subset, case, case_subdir, filename = fixed_filepath.split(os.sep)\n",
    "    sample_save_dir = os.path.join(\n",
    "        dir_reg, hospital, subset, case, case_subdir)  # 该病例保存的文件夹\n",
    "    if not os.path.exists(sample_save_dir):\n",
    "        os.makedirs(sample_save_dir)\n",
    "    # 保存fix图像文件\n",
    "    copy_fixed_filepath = os.path.join(sample_save_dir, re.sub(\n",
    "        '\\s*\\d+-\\d+\\s*', '', os.path.basename(fixed_filepath)))\n",
    "    if fixedImage.GetNumberOfComponentsPerPixel() > 1:\n",
    "        sitk.WriteImage(fixedImage_corrected, copy_fixed_filepath)\n",
    "    else:\n",
    "        shutil.copy(src=fixed_filepath, dst=copy_fixed_filepath)\n",
    "\n",
    "    # 保存ROI\n",
    "    copy_label_path = sample_save_dir.replace(case_subdir, 'ROI')\n",
    "    if not os.path.exists(copy_label_path):\n",
    "        os.makedirs(copy_label_path)\n",
    "    copy_label_filepath = os.path.join(copy_label_path, re.sub(\n",
    "        '\\s*\\d+-\\d+\\s*', '', os.path.basename(label_filepath)))\n",
    "    shutil.copy(src=label_filepath, dst=copy_label_filepath)\n",
    "    # sitk.WriteImage(sitk.ReadImage(label_filepath,sitk.sitkFloat32), copy_label_filepath)\n",
    "\n",
    "    # 遍历每一个待配准序列\n",
    "    # for colname in filepaths_to_registrated.columns.drop('fix'):\n",
    "\n",
    "    @parfor(filepaths_to_registrated.columns.drop('fix'), bar=False, qbar=False, rP=1, serial=2)\n",
    "    def fun(colname):\n",
    "        # moving图像的文件路径\n",
    "        moving_filepath = filepaths_to_registrated.loc[label_filepath, colname]\n",
    "        if moving_filepath == fixed_filepath:\n",
    "            # continue\n",
    "            return\n",
    "        if isinstance(moving_filepath, float):\n",
    "            if np.isnan(moving_filepath):\n",
    "                # continue\n",
    "                return\n",
    "        elif isinstance(moving_filepath, str):\n",
    "            if not os.path.isfile(moving_filepath):\n",
    "                # continue\n",
    "                return\n",
    "\n",
    "        movingImage = sitk.ReadImage(moving_filepath)  # sitk.sitkFloat32 )\n",
    "        # 执行配准\n",
    "        if movingImage.GetNumberOfComponentsPerPixel() > 1:\n",
    "            movingImage = sitk.Cast(movingImage, sitk.sitkVectorFloat32)\n",
    "            pat = '(\\d)+-(\\d)+.*.nrrd'\n",
    "            moving_basename = os.path.basename(moving_filepath)\n",
    "            print(moving_basename)\n",
    "            result = re.match(pat, moving_basename)\n",
    "            n, m = result.groups()\n",
    "            n, m = int(n), int(m)  # n表示该期相所在的通道（从1开始编号），m表示该文件中的所有通道数\n",
    "            movingImage_arr = sitk.GetArrayFromImage(movingImage)\n",
    "            movingImage_corrected = sitk.GetImageFromArray(\n",
    "                movingImage_arr[..., n-1])\n",
    "            movingImage_corrected.CopyInformation(movingImage)\n",
    "        else:\n",
    "            movingImage_corrected = sitk.Cast(movingImage, sitk.sitkFloat32)\n",
    "        try:\n",
    "            resultImage = util.Image_Registration_Method4(\n",
    "                fixedImage_corrected, movingImage_corrected, DefaultPixelValue=0.0)\n",
    "        except:\n",
    "            print('Error while trying to registrated {}'.format(moving_filepath))\n",
    "            # continue\n",
    "            return\n",
    "        # 保存配准后的moving文件：\n",
    "        resultImage_filepath = os.path.join(sample_save_dir, re.sub(\n",
    "            '\\s*\\d+-\\d+\\s*', '', os.path.basename(moving_filepath)))\n",
    "        sitk.WriteImage(resultImage, resultImage_filepath)\n",
    "\n",
    "    # 删除临时文件\n",
    "    for fn in os.listdir(params['temp_dir']):\n",
    "        try:\n",
    "            os.remove(os.path.join(params['temp_dir'], fn))\n",
    "        except:\n",
    "            None"
   ]
  }
 ],
 "metadata": {
  "hide_input": false,
  "interpreter": {
   "hash": "ad2bdc8ecc057115af97d19610ffacc2b4e99fae6737bb82f5d7fb13d2f2c186"
  },
  "kernelspec": {
   "display_name": "Python 3",
   "language": "python",
   "name": "python3"
  },
  "language_info": {
   "codemirror_mode": {
    "name": "ipython",
    "version": 3
   },
   "file_extension": ".py",
   "mimetype": "text/x-python",
   "name": "python",
   "nbconvert_exporter": "python",
   "pygments_lexer": "ipython3",
   "version": "3.8.5"
  },
  "toc": {
   "base_numbering": 1,
   "nav_menu": {},
   "number_sections": true,
   "sideBar": true,
   "skip_h1_title": false,
   "title_cell": "Table of Contents",
   "title_sidebar": "Contents",
   "toc_cell": false,
   "toc_position": {},
   "toc_section_display": true,
   "toc_window_display": false
  },
  "varInspector": {
   "cols": {
    "lenName": 16,
    "lenType": 16,
    "lenVar": 40
   },
   "kernels_config": {
    "python": {
     "delete_cmd_postfix": "",
     "delete_cmd_prefix": "del ",
     "library": "var_list.py",
     "varRefreshCmd": "print(var_dic_list())"
    },
    "r": {
     "delete_cmd_postfix": ") ",
     "delete_cmd_prefix": "rm(",
     "library": "var_list.r",
     "varRefreshCmd": "cat(var_dic_list()) "
    }
   },
   "types_to_exclude": [
    "module",
    "function",
    "builtin_function_or_method",
    "instance",
    "_Feature"
   ],
   "window_display": false
  }
 },
 "nbformat": 4,
 "nbformat_minor": 2
}
